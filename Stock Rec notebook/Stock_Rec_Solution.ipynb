{
 "cells": [
  {
   "cell_type": "markdown",
   "id": "9989d622",
   "metadata": {},
   "source": [
    "# H1 Stock Reconciliation Transformation Solution"
   ]
  },
  {
   "cell_type": "markdown",
   "id": "719cc304",
   "metadata": {},
   "source": [
    "## H2 Specifications\n",
    "Andrew has provide the intended behaviour here:\n",
    "[Andrews Spec](https://mapofag.sharepoint.com/:w:/s/Project/project_MapofAg_PureFarming/Eb6Rmp1Nk4pBmKmShQm2_RoB4mbEvtc6XRdjKJGynzOESw?e=4UAoe1)\n"
   ]
  },
  {
   "cell_type": "markdown",
   "id": "b6a30377",
   "metadata": {},
   "source": [
    "**TimeZone**\n",
    "To start with, we will need to obtain the timezone of the holding that we are transforming.\n",
    "For Easy Dairy, this is passed when the holding upload's the file via Provider.\n",
    "This timezone will then be mapped to determine which hamisphere the holding belongs to. \n",
    "We need this to determine the bithing period of an animal:\n",
    "\n",
    "- **Northern Hamisphere**: 01/01/2025 to 31/12/2025\n",
    "- **Southern Hamisphere**: 01/07/2025 to 30/06/2026\n",
    "\n",
    "As for mapping, after discussing with Chris H and looking at which client/hondings are to be using stock rec, we have decided to only map NZ and Australian timezones for now. The rest would be considered as Northern hamisphere."
   ]
  },
  {
   "cell_type": "code",
   "execution_count": 3,
   "id": "347611f8",
   "metadata": {},
   "outputs": [],
   "source": [
    "#Dependencies \n",
    "import datetime"
   ]
  },
  {
   "cell_type": "code",
   "execution_count": 4,
   "id": "095e4c4c",
   "metadata": {},
   "outputs": [
    {
     "name": "stdout",
     "output_type": "stream",
     "text": [
      "Select a timezone from the list below: Just type in the number\n",
      "1. Pacific/Auckland\n",
      "2. Australia/Sydney\n",
      "3. America/New_York\n"
     ]
    },
    {
     "name": "stdin",
     "output_type": "stream",
     "text": [
      "Enter the number corresponding to your timezone:  1\n"
     ]
    },
    {
     "name": "stdout",
     "output_type": "stream",
     "text": [
      "You have selected timezone: Pacific/Auckland\n"
     ]
    }
   ],
   "source": [
    "#Example of the timezone being fetched \n",
    "print('Select a timezone from the list below: Just type in the number')\n",
    "print('1. Pacific/Auckland')\n",
    "print('2. Australia/Sydney')\n",
    "print('3. America/New_York')\n",
    "tz_choise = input('Enter the number corresponding to your timezone: ')\n",
    "if tz_choise == '1':\n",
    "    timezone = 'Pacific/Auckland'\n",
    "elif tz_choise == '2':\n",
    "    timezone = 'Australia/Sydney'\n",
    "elif tz_choise == '3':\n",
    "    timezone = 'America/New_York'\n",
    "else:\n",
    "    print('Invalid choice')\n",
    "    timezone = tz_choise\n",
    "\n",
    "print (f'You have selected timezone: {timezone}')"
   ]
  },
  {
   "cell_type": "code",
   "execution_count": 5,
   "id": "291108fd",
   "metadata": {},
   "outputs": [
    {
     "name": "stdout",
     "output_type": "stream",
     "text": [
      "The timezone Pacific/Auckland is in the Southern Hemisphere.\n"
     ]
    }
   ],
   "source": [
    "#Timezone hamisphere mapping\n",
    "\n",
    "def hamisphere_mapper(timezone):\n",
    "    if timezone in ['Australia/Sydney', 'Australia/Melbourne', 'Australia/Brisbane', 'Australia/Adelaide', 'Australia/Perth', 'Australia/Hobart']:\n",
    "        return 'Southern'\n",
    "    elif timezone in ['Pacific/Auckland']:\n",
    "        return 'Southern'\n",
    "    else:\n",
    "        return 'Northern'  \n",
    "\n",
    "tz = hamisphere_mapper(timezone)\n",
    "print(f'The timezone {timezone} is in the {tz} Hemisphere.')"
   ]
  },
  {
   "cell_type": "code",
   "execution_count": null,
   "id": "7a37aa76",
   "metadata": {},
   "outputs": [],
   "source": []
  }
 ],
 "metadata": {
  "kernelspec": {
   "display_name": "Python [conda env:base] *",
   "language": "python",
   "name": "conda-base-py"
  },
  "language_info": {
   "codemirror_mode": {
    "name": "ipython",
    "version": 3
   },
   "file_extension": ".py",
   "mimetype": "text/x-python",
   "name": "python",
   "nbconvert_exporter": "python",
   "pygments_lexer": "ipython3",
   "version": "3.13.5"
  }
 },
 "nbformat": 4,
 "nbformat_minor": 5
}
